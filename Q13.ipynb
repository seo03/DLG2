{
  "nbformat": 4,
  "nbformat_minor": 0,
  "metadata": {
    "colab": {
      "provenance": [],
      "authorship_tag": "ABX9TyNiH7d55tCgwBXi6MDMJUw0",
      "include_colab_link": true
    },
    "kernelspec": {
      "name": "python3",
      "display_name": "Python 3"
    },
    "language_info": {
      "name": "python"
    }
  },
  "cells": [
    {
      "cell_type": "markdown",
      "metadata": {
        "id": "view-in-github",
        "colab_type": "text"
      },
      "source": [
        "<a href=\"https://colab.research.google.com/github/seo03/DLG2/blob/main/Q13.ipynb\" target=\"_parent\"><img src=\"https://colab.research.google.com/assets/colab-badge.svg\" alt=\"Open In Colab\"/></a>"
      ]
    },
    {
      "cell_type": "markdown",
      "source": [
        "# Q13. Create a list called numbers. Using the random.randint() function, add five random integers to it. Then, print the list.\n",
        "\n",
        "**Note**: You should not write the random number on your own. The code should take the random number and add it to your list."
      ],
      "metadata": {
        "id": "PURsYXF2KuAO"
      }
    },
    {
      "cell_type": "code",
      "source": [],
      "metadata": {
        "id": "0v7xClwtFJJ-"
      },
      "execution_count": null,
      "outputs": []
    }
  ]
}